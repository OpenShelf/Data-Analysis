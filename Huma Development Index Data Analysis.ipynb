{
 "cells": [
  {
   "cell_type": "code",
   "execution_count": null,
   "id": "fcc6a56c",
   "metadata": {},
   "outputs": [],
   "source": [
    "import pandas as pd\n",
    "import numpy as np\n",
    "import matplotlib.pyplot as plt\n",
    "import seaborn as sns\n",
    "import plotly.express as px\n",
    "import plotly.graph_objs as go\n",
    "from plotly.offline import iplot\n",
    "\n",
    "data = pd.read_csv(\"Human Development Index - Full.csv(CSV file path )")\n",
    "print(data.head())"
   ]
  },
  {
   "cell_type": "code",
   "execution_count": 11,
   "id": "bc6d39be",
   "metadata": {},
   "outputs": [
    {
     "name": "stdout",
     "output_type": "stream",
     "text": [
      "    ISO3       Country Human Development Groups UNDP Developing Regions  \\\n",
      "190  WSM         Samoa                     High                     EAP   \n",
      "191  YEM         Yemen                      Low                      AS   \n",
      "192  ZAF  South Africa                     High                     SSA   \n",
      "193  ZMB        Zambia                   Medium                     SSA   \n",
      "194  ZWE      Zimbabwe                   Medium                     SSA   \n",
      "\n",
      "     HDI Rank (2021)  Human Development Index (1990)  \\\n",
      "190            111.0                             NaN   \n",
      "191            183.0                           0.383   \n",
      "192            109.0                           0.632   \n",
      "193            154.0                           0.412   \n",
      "194            146.0                           0.509   \n",
      "\n",
      "     Human Development Index (1991)  Human Development Index (1992)  \\\n",
      "190                             NaN                             NaN   \n",
      "191                           0.386                           0.391   \n",
      "192                           0.641                           0.647   \n",
      "193                           0.408                           0.408   \n",
      "194                           0.512                           0.498   \n",
      "\n",
      "     Human Development Index (1993)  Human Development Index (1994)  ...  \\\n",
      "190                             NaN                             NaN  ...   \n",
      "191                           0.397                           0.399  ...   \n",
      "192                           0.652                           0.658  ...   \n",
      "193                           0.414                           0.411  ...   \n",
      "194                           0.491                           0.486  ...   \n",
      "\n",
      "     Material footprint per capita (tonnes) (2012)  \\\n",
      "190                                            NaN   \n",
      "191                                           3.66   \n",
      "192                                           9.55   \n",
      "193                                           4.74   \n",
      "194                                           3.13   \n",
      "\n",
      "     Material footprint per capita (tonnes) (2013)  \\\n",
      "190                                            NaN   \n",
      "191                                           3.60   \n",
      "192                                          10.09   \n",
      "193                                           4.68   \n",
      "194                                           2.86   \n",
      "\n",
      "     Material footprint per capita (tonnes) (2014)  \\\n",
      "190                                            NaN   \n",
      "191                                           3.55   \n",
      "192                                           8.41   \n",
      "193                                           3.92   \n",
      "194                                           3.03   \n",
      "\n",
      "     Material footprint per capita (tonnes) (2015)  \\\n",
      "190                                            NaN   \n",
      "191                                           3.39   \n",
      "192                                           8.06   \n",
      "193                                           3.36   \n",
      "194                                           2.66   \n",
      "\n",
      "     Material footprint per capita (tonnes) (2016)  \\\n",
      "190                                            NaN   \n",
      "191                                           3.48   \n",
      "192                                           7.55   \n",
      "193                                           3.12   \n",
      "194                                           2.29   \n",
      "\n",
      "     Material footprint per capita (tonnes) (2017)  \\\n",
      "190                                            NaN   \n",
      "191                                           3.06   \n",
      "192                                           7.76   \n",
      "193                                           3.21   \n",
      "194                                           2.26   \n",
      "\n",
      "     Material footprint per capita (tonnes) (2018)  \\\n",
      "190                                            NaN   \n",
      "191                                           2.84   \n",
      "192                                           7.60   \n",
      "193                                           2.80   \n",
      "194                                           2.05   \n",
      "\n",
      "     Material footprint per capita (tonnes) (2019)  \\\n",
      "190                                            NaN   \n",
      "191                                           2.89   \n",
      "192                                           7.55   \n",
      "193                                           2.38   \n",
      "194                                           1.21   \n",
      "\n",
      "     Material footprint per capita (tonnes) (2020)  \\\n",
      "190                                            NaN   \n",
      "191                                           2.89   \n",
      "192                                           7.55   \n",
      "193                                           2.38   \n",
      "194                                           1.21   \n",
      "\n",
      "     Material footprint per capita (tonnes) (2021)  \n",
      "190                                            NaN  \n",
      "191                                           2.89  \n",
      "192                                           7.55  \n",
      "193                                           2.38  \n",
      "194                                           1.21  \n",
      "\n",
      "[5 rows x 880 columns]\n"
     ]
    }
   ],
   "source": [
    "print(data.tail())"
   ]
  },
  {
   "cell_type": "code",
   "execution_count": 12,
   "id": "9d69b45d",
   "metadata": {},
   "outputs": [
    {
     "name": "stdout",
     "output_type": "stream",
     "text": [
      "<class 'pandas.core.frame.DataFrame'>\n",
      "RangeIndex: 195 entries, 0 to 194\n",
      "Columns: 880 entries, ISO3 to Material footprint per capita (tonnes) (2021)\n",
      "dtypes: float64(876), object(4)\n",
      "memory usage: 1.3+ MB\n",
      "None\n"
     ]
    }
   ],
   "source": [
    "print(data.info())"
   ]
  },
  {
   "cell_type": "code",
   "execution_count": 17,
   "id": "e5c13acc",
   "metadata": {},
   "outputs": [
    {
     "name": "stdout",
     "output_type": "stream",
     "text": [
      "Maximum Human Index in 1990: 0.872\n"
     ]
    }
   ],
   "source": [
    "print(\"Maximum Human Index in 1990:\", data[\"Human Development Index (1990)\"].max())"
   ]
  },
  {
   "cell_type": "code",
   "execution_count": 18,
   "id": "e6619012",
   "metadata": {},
   "outputs": [
    {
     "name": "stdout",
     "output_type": "stream",
     "text": [
      "Minimum Human Index in 1990: 0.216\n"
     ]
    }
   ],
   "source": [
    "print(\"Minimum Human Index in 1990:\", data[\"Human Development Index (1990)\"].min())"
   ]
  },
  {
   "cell_type": "code",
   "execution_count": null,
   "id": "9ac5e404",
   "metadata": {},
   "outputs": [],
   "source": []
  },
  {
   "cell_type": "code",
   "execution_count": null,
   "id": "fea40eab",
   "metadata": {},
   "outputs": [],
   "source": []
  }
 ],
 "metadata": {
  "kernelspec": {
   "display_name": "Python 3",
   "language": "python",
   "name": "python3"
  },
  "language_info": {
   "codemirror_mode": {
    "name": "ipython",
    "version": 3
   },
   "file_extension": ".py",
   "mimetype": "text/x-python",
   "name": "python",
   "nbconvert_exporter": "python",
   "pygments_lexer": "ipython3",
   "version": "3.9.13"
  }
 },
 "nbformat": 4,
 "nbformat_minor": 5
}
